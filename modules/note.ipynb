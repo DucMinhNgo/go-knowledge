{
 "cells": [
  {
   "attachments": {},
   "cell_type": "markdown",
   "metadata": {},
   "source": [
    "# Sử dụng Go Modules\n",
    "https://anhlamweb.com/bai-viet-73/cach-su-dung-go-modules.html\n",
    "\n",
    "- Gioiw thiệu về Go Mod\n",
    "    => Sử dụng để install các gói module một cách tự động khi thực hiệnchayj chương trình\n",
    "    Nếu không có:\n",
    "    phải sử dụng lệnh\n",
    "    go get\n",
    "\n",
    "- Sử dụng Go Mod (go 1.11 trở lên mới có go modules):\n",
    "    - go.mod (định nghĩa đường dẫn của module).\n",
    "    - go.sum: Để lưu vế version của thư viện mà project đang sử dụng.\n",
    "    - go mod download github.com/gorilla/mux\n",
    "\n",
    "go mod init"
   ]
  }
 ],
 "metadata": {
  "language_info": {
   "name": "python"
  },
  "orig_nbformat": 4
 },
 "nbformat": 4,
 "nbformat_minor": 2
}
