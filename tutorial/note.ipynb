{
 "cells": [
  {
   "attachments": {},
   "cell_type": "markdown",
   "metadata": {},
   "source": [
    "# Tutorial\n",
    "https://anhlamweb.com/bai-viet-66/hoc-golang-tu-con-so-0-phan-2-cac-thanh-phan-co-ban-trong-go\n"
   ]
  },
  {
   "attachments": {},
   "cell_type": "markdown",
   "metadata": {},
   "source": [
    "# Biến và giá trị trong Golang\n",
    "- Từ khoá var trong Go dùng để khai báo một hoặc nhiều biến, và khai báo biến phải có tên biến và kiểu dữ liệu của biến một cách rõ ràng."
   ]
  },
  {
   "cell_type": "code",
   "execution_count": null,
   "metadata": {
    "vscode": {
     "languageId": "go"
    }
   },
   "outputs": [],
   "source": [
    "package main\n",
    " \n",
    "import \"fmt\"\n",
    " \n",
    "func main(){\n",
    "    //var [tên biến] = [giá trị]\n",
    "    var a = true\n",
    "    fmt.Printf(\"a=%t\\n\", a)\n",
    "    //[tên biến] := [giá trị]\n",
    "    b := \"good bye\"\n",
    "    fmt.Printf(\"b=%s\\n\", b)\n",
    "    //var [tên biến 1],  [tên biến 2] [kiểu giá trị] = [giá trị]\n",
    "    var c, d int = 1 ,2\n",
    "    fmt.Printf(\"c=%d\\nd=%d\\n\", c, d)\n",
    "   //var [tên biến] [kiểu giá trị]\n",
    "   //[tên biến] = [giá trị]\n",
    "   var e float32\n",
    "    e = 10.5\n",
    "    fmt.Printf(\"e=%f\\n\",e)\n",
    "    fmt.Scanf(\"Pause\")\n",
    "}"
   ]
  }
 ],
 "metadata": {
  "language_info": {
   "name": "python"
  },
  "orig_nbformat": 4
 },
 "nbformat": 4,
 "nbformat_minor": 2
}
