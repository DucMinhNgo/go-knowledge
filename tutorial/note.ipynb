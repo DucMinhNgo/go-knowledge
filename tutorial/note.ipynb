{
 "cells": [
  {
   "attachments": {},
   "cell_type": "markdown",
   "metadata": {},
   "source": [
    "# Tutorial\n",
    "https://anhlamweb.com/bai-viet-66/hoc-golang-tu-con-so-0-phan-2-cac-thanh-phan-co-ban-trong-go\n"
   ]
  },
  {
   "attachments": {},
   "cell_type": "markdown",
   "metadata": {},
   "source": [
    "# Biến và giá trị trong Golang\n",
    "- Từ khoá var trong Go dùng để khai báo một hoặc nhiều biến, và khai báo biến phải có tên biến và kiểu dữ liệu của biến một cách rõ ràng."
   ]
  },
  {
   "cell_type": "code",
   "execution_count": null,
   "metadata": {
    "vscode": {
     "languageId": "go"
    }
   },
   "outputs": [],
   "source": [
    "package main\n",
    " \n",
    "import \"fmt\"\n",
    " \n",
    "func main(){\n",
    "    //var [tên biến] = [giá trị]\n",
    "    var a = true\n",
    "    fmt.Printf(\"a=%t\\n\", a)\n",
    "    //[tên biến] := [giá trị]\n",
    "    b := \"good bye\"\n",
    "    fmt.Printf(\"b=%s\\n\", b)\n",
    "    //var [tên biến 1],  [tên biến 2] [kiểu giá trị] = [giá trị]\n",
    "    var c, d int = 1 ,2\n",
    "    fmt.Printf(\"c=%d\\nd=%d\\n\", c, d)\n",
    "   //var [tên biến] [kiểu giá trị]\n",
    "   //[tên biến] = [giá trị]\n",
    "   var e float32\n",
    "    e = 10.5\n",
    "    fmt.Printf(\"e=%f\\n\",e)\n",
    "    fmt.Scanf(\"Pause\")\n",
    "}"
   ]
  },
  {
   "attachments": {},
   "cell_type": "markdown",
   "metadata": {},
   "source": [
    "# Hằng số trong Golang"
   ]
  },
  {
   "cell_type": "code",
   "execution_count": null,
   "metadata": {
    "vscode": {
     "languageId": "go"
    }
   },
   "outputs": [],
   "source": [
    "package main\n",
    " \n",
    "import \"fmt\"\n",
    " \n",
    "const hello string = \"Hello World\"\n",
    " \n",
    "func main(){\n",
    "    fmt.Printf(\"hello=%s\\n\", hello)\n",
    "    const n = 100\n",
    "    nx2 := n*2\n",
    "    fmt.Printf(\"n=%d\\n\", n)\n",
    "    fmt.Printf(\"nx2=%d\\n\", nx2)\n",
    "    fmt.Scanf(\"Pause\")\n",
    "}"
   ]
  },
  {
   "attachments": {},
   "cell_type": "markdown",
   "metadata": {},
   "source": [
    "# Go có vòng lặp for nhưng không có while"
   ]
  },
  {
   "cell_type": "code",
   "execution_count": null,
   "metadata": {
    "vscode": {
     "languageId": "go"
    }
   },
   "outputs": [],
   "source": [
    "package main\n",
    " \n",
    "import \"fmt\"\n",
    " \n",
    "func main(){\n",
    "    fmt.Println(\"Go does not have While loop we should use For instead:\")\n",
    "    i:=5\n",
    "    for i > 0{\n",
    "        fmt.Printf(\"%d\\t\",i)\n",
    "        i--\n",
    "    }\n",
    "    fmt.Println(\"\\nBreak out of the loop:\")\n",
    "    for {\n",
    "       fmt.Printf(\"loop \\t\")\n",
    "       break\n",
    "    }\n",
    "    fmt.Println(\"\\nContinue to the next iteration of the loop:\")\n",
    "    for n := 0; n <= 5; n++ {\n",
    "       if n%2 == 0 {\n",
    "           continue\n",
    "       }\n",
    "       fmt.Printf(\"%d\\t\",n)\n",
    "   }\n",
    "   fmt.Scanf(\"Pause\")\n",
    "}"
   ]
  },
  {
   "attachments": {},
   "cell_type": "markdown",
   "metadata": {},
   "source": [
    "# Câu điều kiện trong Golang\n",
    "Có thêm sự ngắn gọn, chúng ta có thể gán giá trị hoặc lấy giá trị từ một hàm nào đó trên cú pháp của lện If."
   ]
  },
  {
   "cell_type": "code",
   "execution_count": null,
   "metadata": {
    "vscode": {
     "languageId": "go"
    }
   },
   "outputs": [],
   "source": [
    "package main\n",
    "\n",
    "import (\n",
    "\t\"bufio\"\n",
    "\t\"fmt\"\n",
    "\t\"math/rand\"\n",
    "\t\"os\"\n",
    ")\n",
    "\n",
    "var (\n",
    "\tPASSWORD = \"123456\"\n",
    ")\n",
    "\n",
    "func getRandNumber(n int) int {\n",
    "\treturn rand.Intn(n)\n",
    "}\n",
    "\n",
    "func main() {\n",
    "\tvar password string\n",
    "\n",
    "\tscanner := bufio.NewScanner(os.Stdin)\n",
    "\n",
    "\tfmt.Print(\"Enter your password:\")\n",
    "\tfor scanner.Scan() {\n",
    "\t\tpassword = scanner.Text()\n",
    "\t\tbreak\n",
    "\t}\n",
    "\t\n",
    "\tif password == PASSWORD {\n",
    "\t\tfmt.Printf(\"Your password is correct\\n\")\n",
    "\t} else {\n",
    "\t\tfmt.Printf(\"Your password is incorrect\\n\")\n",
    "\t}\n",
    "\n",
    "\t//Call a function get assign value to num variable.\n",
    "\tif num := getRandNumber(20); num < 19 {\n",
    "\t\tfmt.Printf(\"number %d is smaller than 19\\n\", num)\n",
    "\t}\n",
    "\n",
    "\tif num := getRandNumber(20); num > 10 {\n",
    "\t\tfmt.Printf(\"number %d is greater than 10\", num)\n",
    "\t} else if num < 10 {\n",
    "\t\tfmt.Printf(\"number %d is smaller than 10\", num)\n",
    "\t} else {\n",
    "\t\tfmt.Printf(\"number %d is equal to 10\", num)\n",
    "\t}\n",
    "\tfmt.Scanf(\"Pause\")\n",
    "}"
   ]
  },
  {
   "attachments": {},
   "cell_type": "markdown",
   "metadata": {},
   "source": [
    "# Hàm (Functions) trong Golang\n",
    "Để khai báo một hàm ta dùng từ khóa “func”.\n",
    "\n",
    "Cách 1: Hàm với giá trị trả về\n",
    "\n",
    "func [tên Hàm]([tên biến 1] [kiểu biến], [tên biến 2] [kiểu biến]) [kiểu trả về]{\n",
    "\n",
    "     //thân hàm...\n",
    "\n",
    "}\n",
    "\n",
    "Cách 2: Hàm rút gọn kiểu biến nếu các kiểu của biến đều cùng chung kiểu\n",
    "\n",
    "func [tên Hàm]([tên biến 1],  [tên biến 2] [kiểu biến]) [kiểu trả về]{\n",
    "\n",
    "     //thân hàm...\n",
    "\n",
    "}"
   ]
  },
  {
   "cell_type": "code",
   "execution_count": null,
   "metadata": {
    "vscode": {
     "languageId": "go"
    }
   },
   "outputs": [],
   "source": [
    "package main\n",
    "\n",
    "import \"fmt\"\n",
    "\n",
    "//Chu vi hình chữ nhật\n",
    "//Rectangle Perimeter\n",
    "//Cách khai báo 1\n",
    "func rectPerimeter(a int, b int) int {\n",
    "\treturn (a + b) * 2\n",
    "}\n",
    "\n",
    "//Diện tích hình chữ nhật\n",
    "//Rectangle Area\n",
    "//Cách khai báo 2\n",
    "func rectArea(a, b int) int {\n",
    "\treturn a * b\n",
    "}\n",
    "\n",
    "func main() {\n",
    "\ta := 2\n",
    "\tb := 3\n",
    "\trectPeri := rectPerimeter(a, b)\n",
    "\tfmt.Printf(\"Perimeter of rectangle is %d\\n\", rectPeri)\n",
    "\trectAr := rectArea(a, b)\n",
    "\tfmt.Printf(\"Area of rectangle is %d\\n\", rectAr)\n",
    "\tfmt.Scanf(\"Pause\")\n",
    "}"
   ]
  },
  {
   "attachments": {},
   "cell_type": "markdown",
   "metadata": {},
   "source": [
    "# Hàm trả về nhiều giá trị (Multiple Return Values) trong Golang.\n",
    "Hàm trả về nhiều giá trị trong Golang có các cách viết sau\n",
    "\n",
    "Cách 1: Hàm với giá trị trả về\n",
    "\n",
    "func [tên Hàm]([tên biến 1] , [tên biến 2] [kiểu biến]) ([kiểu trả về 1], [kiểu trả về 2]){\n",
    "\n",
    "            //thân hàm…\n",
    "\n",
    "           //logic tính toán...\n",
    "\n",
    "            return [giá trị trả về 1], [giá trị trả về 2]\n",
    "\n",
    "}\n",
    "\n",
    "Cách 2: Hàm khai bào trước tên của giá trị trả về, nếu đã khai báo trước giá trị trả về thì chỉ cần có return mà không cần phải bỏ các giá trị bên cạnh từ khóa return\n",
    "\n",
    "func [tên Hàm]([tên biến truyền vào 1] , [tên biến truyền vào 2] [kiểu biến truyền vào]) ([tên biến trả về 1] [kiểu trả về 1], [tên biến trả về 2][kiểu trả về 2]){\n",
    "\n",
    "             //thân hàm…\n",
    "\n",
    "            //logic tính toán...\n",
    "\n",
    "            return\n",
    "\n",
    "}\n",
    "\n",
    "Cách 3: Hàm khai báo trước tên giá trị trả về với cách viết rút gọn kiểu trả về nếu tất cả các giá trị trả về cùng kiểu.\n",
    "\n",
    "func [tên Hàm]([tên biến truyền vào 1] , [tên biến truyền vào 2] [kiểu biến truyền vào]) ([tên biến trả về 1],  [tên biến trả về 2][kiểu trả về]){\n",
    "\n",
    "            //thân hàm…\n",
    "\n",
    "           //logic tính toán...\n",
    "\n",
    "            return\n",
    "\n",
    "}"
   ]
  },
  {
   "cell_type": "code",
   "execution_count": null,
   "metadata": {
    "vscode": {
     "languageId": "go"
    }
   },
   "outputs": [],
   "source": [
    "package main\n",
    "\n",
    "import \"fmt\"\n",
    "\n",
    "//Chu vi hình chữ nhật\n",
    "//Rectangle Perimeter\n",
    "func rectPerimeter(a int, b int) int {\n",
    "\treturn (a + b) * 2\n",
    "}\n",
    "\n",
    "//Diện tích hình chữ nhật\n",
    "//Rectangle Area\n",
    "func rectArea(a, b int) int {\n",
    "\treturn a * b\n",
    "}\n",
    "\n",
    "//Chu vi và diện tích hình chữ nhật cách 1\n",
    "func rectPeriAndArea1(a, b int) (int, int) {\n",
    "\trectPeri := rectPerimeter(a, b)\n",
    "\trectArea := rectArea(a, b)\n",
    "\treturn rectPeri, rectArea\n",
    "}\n",
    "\n",
    "//Chu vi và diện tích hình chữ nhật cách 2\n",
    "func rectPeriAndArea2(a, b int) (rectPeri int, rectAr int) {\n",
    "\trectPeri = rectPerimeter(a, b)\n",
    "\trectAr = rectArea(a, b)\n",
    "\treturn\n",
    "}\n",
    "\n",
    "//Chu vi và diện tích hình chữ nhật cách 3\n",
    "func rectPeriAndArea3(a, b int) (rectPeri, rectAr int) {\n",
    "\trectPeri = rectPerimeter(a, b)\n",
    "\trectAr = rectArea(a, b)\n",
    "\treturn\n",
    "}\n",
    "\n",
    "func main() {\n",
    "\ta := 2\n",
    "\tb := 3\n",
    "\trectPeri1, rectAr1 := rectPeriAndArea1(a, b)\n",
    "\tfmt.Printf(\"rectPeri1=%d, rectAr1=%d\\n\", rectPeri1, rectAr1)\n",
    "\trectPeri2, rectAr2 := rectPeriAndArea2(a, b)\n",
    "\tfmt.Printf(\"rectPeri2=%d, rectAr2=%d\\n\", rectPeri2, rectAr2)\n",
    "\trectPeri3, rectAr3 := rectPeriAndArea3(a, b)\n",
    "\tfmt.Printf(\"rectPeri3=%d, rectAr3=%d\\n\", rectPeri3, rectAr3)\n",
    "\tfmt.Scanf(\"Pause\")\n",
    "}"
   ]
  },
  {
   "attachments": {},
   "cell_type": "markdown",
   "metadata": {},
   "source": [
    "# Hàm bất định (Variadict Function) trong Golang.\n",
    "Hàm bất định (Variadict Function) là một hàm chấp nhận số lượng đối số khác nhau và không biết trước. \n",
    "\n",
    "Chúng ta có thể thấy có dấu ... ngộ ha. Nhưng nó có ý nghĩa để khai báo số phần tử không biết trước của đối số truyền vào hàm.\n",
    "\n",
    "Hàm này cũng nhận giá trị là một array nhưng sau array này lại có dấu ... vậy nó có ý nghĩa là gì nhỉ? Dấu ... này sẽ tự động phân tách các phần tử tròng mảng thành các đối số vào hàm.\n",
    "\n",
    "Ví dụ:\n",
    "\n",
    "myArray    = [1,2,3,4]\n",
    "\n",
    "myArray... = 1,2,3,4"
   ]
  },
  {
   "cell_type": "code",
   "execution_count": null,
   "metadata": {
    "vscode": {
     "languageId": "go"
    }
   },
   "outputs": [],
   "source": [
    "package main\n",
    "\n",
    "import \"fmt\"\n",
    "\n",
    "func min(numbers ...int) int {\n",
    "\tresult := numbers[0]\n",
    "\tfor _, num := range numbers {\n",
    "\t\tif result > num {\n",
    "\t\t\tresult = num\n",
    "\t\t}\n",
    "\t}\n",
    "\treturn result\n",
    "}\n",
    "\n",
    "func main() {\n",
    "\tfmt.Printf(\"min of 5,3,2 is %d\\n\", min(5, 3, 2))\n",
    "\tfmt.Printf(\"min of 5,3,2,1 is %d\\n\", min(5, 3, 2, 1))\n",
    "\tnumbers := []int{5, 3, 2, 1, 0}\n",
    "\tfmt.Printf(\"min of array [5,3,2,1,0] is %d\", min(numbers...))\n",
    "\tfmt.Scanf(\"Pause\")\n",
    "}"
   ]
  }
 ],
 "metadata": {
  "language_info": {
   "name": "python"
  },
  "orig_nbformat": 4
 },
 "nbformat": 4,
 "nbformat_minor": 2
}
