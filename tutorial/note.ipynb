{
 "cells": [
  {
   "attachments": {},
   "cell_type": "markdown",
   "metadata": {},
   "source": [
    "# Tutorial\n",
    "https://anhlamweb.com/bai-viet-66/hoc-golang-tu-con-so-0-phan-2-cac-thanh-phan-co-ban-trong-go\n"
   ]
  },
  {
   "attachments": {},
   "cell_type": "markdown",
   "metadata": {},
   "source": [
    "# Biến và giá trị trong Golang\n",
    "- Từ khoá var trong Go dùng để khai báo một hoặc nhiều biến, và khai báo biến phải có tên biến và kiểu dữ liệu của biến một cách rõ ràng."
   ]
  },
  {
   "cell_type": "code",
   "execution_count": null,
   "metadata": {
    "vscode": {
     "languageId": "go"
    }
   },
   "outputs": [],
   "source": [
    "package main\n",
    " \n",
    "import \"fmt\"\n",
    " \n",
    "func main(){\n",
    "    //var [tên biến] = [giá trị]\n",
    "    var a = true\n",
    "    fmt.Printf(\"a=%t\\n\", a)\n",
    "    //[tên biến] := [giá trị]\n",
    "    b := \"good bye\"\n",
    "    fmt.Printf(\"b=%s\\n\", b)\n",
    "    //var [tên biến 1],  [tên biến 2] [kiểu giá trị] = [giá trị]\n",
    "    var c, d int = 1 ,2\n",
    "    fmt.Printf(\"c=%d\\nd=%d\\n\", c, d)\n",
    "   //var [tên biến] [kiểu giá trị]\n",
    "   //[tên biến] = [giá trị]\n",
    "   var e float32\n",
    "    e = 10.5\n",
    "    fmt.Printf(\"e=%f\\n\",e)\n",
    "    fmt.Scanf(\"Pause\")\n",
    "}"
   ]
  },
  {
   "attachments": {},
   "cell_type": "markdown",
   "metadata": {},
   "source": [
    "# Hằng số trong Golang"
   ]
  },
  {
   "cell_type": "code",
   "execution_count": null,
   "metadata": {
    "vscode": {
     "languageId": "go"
    }
   },
   "outputs": [],
   "source": [
    "package main\n",
    " \n",
    "import \"fmt\"\n",
    " \n",
    "const hello string = \"Hello World\"\n",
    " \n",
    "func main(){\n",
    "    fmt.Printf(\"hello=%s\\n\", hello)\n",
    "    const n = 100\n",
    "    nx2 := n*2\n",
    "    fmt.Printf(\"n=%d\\n\", n)\n",
    "    fmt.Printf(\"nx2=%d\\n\", nx2)\n",
    "    fmt.Scanf(\"Pause\")\n",
    "}"
   ]
  },
  {
   "attachments": {},
   "cell_type": "markdown",
   "metadata": {},
   "source": [
    "# Go có vòng lặp for nhưng không có while"
   ]
  },
  {
   "cell_type": "code",
   "execution_count": null,
   "metadata": {
    "vscode": {
     "languageId": "go"
    }
   },
   "outputs": [],
   "source": [
    "package main\n",
    " \n",
    "import \"fmt\"\n",
    " \n",
    "func main(){\n",
    "    fmt.Println(\"Go does not have While loop we should use For instead:\")\n",
    "    i:=5\n",
    "    for i > 0{\n",
    "        fmt.Printf(\"%d\\t\",i)\n",
    "        i--\n",
    "    }\n",
    "    fmt.Println(\"\\nBreak out of the loop:\")\n",
    "    for {\n",
    "       fmt.Printf(\"loop \\t\")\n",
    "       break\n",
    "    }\n",
    "    fmt.Println(\"\\nContinue to the next iteration of the loop:\")\n",
    "    for n := 0; n <= 5; n++ {\n",
    "       if n%2 == 0 {\n",
    "           continue\n",
    "       }\n",
    "       fmt.Printf(\"%d\\t\",n)\n",
    "   }\n",
    "   fmt.Scanf(\"Pause\")\n",
    "}"
   ]
  },
  {
   "attachments": {},
   "cell_type": "markdown",
   "metadata": {},
   "source": [
    "# Câu điều kiện trong Golang\n",
    "Có thêm sự ngắn gọn, chúng ta có thể gán giá trị hoặc lấy giá trị từ một hàm nào đó trên cú pháp của lện If."
   ]
  },
  {
   "cell_type": "code",
   "execution_count": null,
   "metadata": {
    "vscode": {
     "languageId": "go"
    }
   },
   "outputs": [],
   "source": [
    "package main\n",
    "\n",
    "import (\n",
    "\t\"bufio\"\n",
    "\t\"fmt\"\n",
    "\t\"math/rand\"\n",
    "\t\"os\"\n",
    ")\n",
    "\n",
    "var (\n",
    "\tPASSWORD = \"123456\"\n",
    ")\n",
    "\n",
    "func getRandNumber(n int) int {\n",
    "\treturn rand.Intn(n)\n",
    "}\n",
    "\n",
    "func main() {\n",
    "\tvar password string\n",
    "\n",
    "\tscanner := bufio.NewScanner(os.Stdin)\n",
    "\n",
    "\tfmt.Print(\"Enter your password:\")\n",
    "\tfor scanner.Scan() {\n",
    "\t\tpassword = scanner.Text()\n",
    "\t\tbreak\n",
    "\t}\n",
    "\t\n",
    "\tif password == PASSWORD {\n",
    "\t\tfmt.Printf(\"Your password is correct\\n\")\n",
    "\t} else {\n",
    "\t\tfmt.Printf(\"Your password is incorrect\\n\")\n",
    "\t}\n",
    "\n",
    "\t//Call a function get assign value to num variable.\n",
    "\tif num := getRandNumber(20); num < 19 {\n",
    "\t\tfmt.Printf(\"number %d is smaller than 19\\n\", num)\n",
    "\t}\n",
    "\n",
    "\tif num := getRandNumber(20); num > 10 {\n",
    "\t\tfmt.Printf(\"number %d is greater than 10\", num)\n",
    "\t} else if num < 10 {\n",
    "\t\tfmt.Printf(\"number %d is smaller than 10\", num)\n",
    "\t} else {\n",
    "\t\tfmt.Printf(\"number %d is equal to 10\", num)\n",
    "\t}\n",
    "\tfmt.Scanf(\"Pause\")\n",
    "}"
   ]
  }
 ],
 "metadata": {
  "language_info": {
   "name": "python"
  },
  "orig_nbformat": 4
 },
 "nbformat": 4,
 "nbformat_minor": 2
}
